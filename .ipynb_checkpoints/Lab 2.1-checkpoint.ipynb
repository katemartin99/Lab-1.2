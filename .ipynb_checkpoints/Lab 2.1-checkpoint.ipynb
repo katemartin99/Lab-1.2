{
 "cells": [
  {
   "cell_type": "code",
   "execution_count": 22,
   "id": "17b97e0f-d17e-4f2e-abfa-6c4060ad7983",
   "metadata": {},
   "outputs": [],
   "source": [
    "import polars as pl\n",
    "\n",
    "dh_data= pl.read_csv(\"data/lahman_1871-2024_csv/DH.csv\")\n",
    "slugging_data= pl.read_csv(\"data/lahman_1871-2024_csv/slugging.csv\")"
   ]
  },
  {
   "cell_type": "code",
   "execution_count": 23,
   "id": "6a8b7f5c-df8c-4648-8ea4-75a6e017b462",
   "metadata": {},
   "outputs": [
    {
     "name": "stderr",
     "output_type": "stream",
     "text": [
      "/var/folders/_h/6vzqs0zn1zlbyn_wprs8tk8h0000gn/T/ipykernel_79031/4019358133.py:1: DeprecationWarning: the argument `columns` for `DataFrame.pivot` is deprecated. It was renamed to `on` in version 1.0.0.\n"
     ]
    },
    {
     "data": {
      "text/html": [
       "<div><style>\n",
       ".dataframe > thead > tr,\n",
       ".dataframe > tbody > tr {\n",
       "  text-align: right;\n",
       "  white-space: pre-wrap;\n",
       "}\n",
       "</style>\n",
       "<small>shape: (5, 4)</small><table border=\"1\" class=\"dataframe\"><thead><tr><th>yearID</th><th>AL</th><th>NL</th><th>AL - NL</th></tr><tr><td>i64</td><td>f64</td><td>f64</td><td>f64</td></tr></thead><tbody><tr><td>1967</td><td>3.693277</td><td>3.83757</td><td>-0.144293</td></tr><tr><td>1981</td><td>4.086877</td><td>3.894603</td><td>0.192274</td></tr><tr><td>2011</td><td>4.453114</td><td>4.170883</td><td>0.282231</td></tr><tr><td>2008</td><td>4.721562</td><td>4.658848</td><td>0.062714</td></tr><tr><td>2003</td><td>4.922077</td><td>4.640911</td><td>0.281166</td></tr></tbody></table></div>"
      ],
      "text/plain": [
       "shape: (5, 4)\n",
       "┌────────┬──────────┬──────────┬───────────┐\n",
       "│ yearID ┆ AL       ┆ NL       ┆ AL - NL   │\n",
       "│ ---    ┆ ---      ┆ ---      ┆ ---       │\n",
       "│ i64    ┆ f64      ┆ f64      ┆ f64       │\n",
       "╞════════╪══════════╪══════════╪═══════════╡\n",
       "│ 1967   ┆ 3.693277 ┆ 3.83757  ┆ -0.144293 │\n",
       "│ 1981   ┆ 4.086877 ┆ 3.894603 ┆ 0.192274  │\n",
       "│ 2011   ┆ 4.453114 ┆ 4.170883 ┆ 0.282231  │\n",
       "│ 2008   ┆ 4.721562 ┆ 4.658848 ┆ 0.062714  │\n",
       "│ 2003   ┆ 4.922077 ┆ 4.640911 ┆ 0.281166  │\n",
       "└────────┴──────────┴──────────┴───────────┘"
      ]
     },
     "execution_count": 23,
     "metadata": {},
     "output_type": "execute_result"
    }
   ],
   "source": [
    "plot = (dh.pivot(index='yearID', columns='lgID', values='ERA')\n",
    "                 .with_columns((pl.col('AL') - pl.col('NL')).alias('AL - NL'))\n",
    "                )\n",
    "plot.head()"
   ]
  },
  {
   "cell_type": "code",
   "execution_count": 24,
   "id": "b27f6a76-92f3-4c33-b0fb-e84cfe326afc",
   "metadata": {},
   "outputs": [
    {
     "name": "stderr",
     "output_type": "stream",
     "text": [
      "/var/folders/_h/6vzqs0zn1zlbyn_wprs8tk8h0000gn/T/ipykernel_79031/1043459843.py:1: DeprecationWarning: the argument `columns` for `DataFrame.pivot` is deprecated. It was renamed to `on` in version 1.0.0.\n"
     ]
    },
    {
     "data": {
      "text/html": [
       "<div><style>\n",
       ".dataframe > thead > tr,\n",
       ".dataframe > tbody > tr {\n",
       "  text-align: right;\n",
       "  white-space: pre-wrap;\n",
       "}\n",
       "</style>\n",
       "<small>shape: (5, 4)</small><table border=\"1\" class=\"dataframe\"><thead><tr><th>yearID</th><th>AL</th><th>NL</th><th>AL - NL</th></tr><tr><td>i64</td><td>f64</td><td>f64</td><td>f64</td></tr></thead><tbody><tr><td>1967</td><td>3.693277</td><td>3.83757</td><td>-0.144293</td></tr><tr><td>1981</td><td>4.086877</td><td>3.894603</td><td>0.192274</td></tr><tr><td>2011</td><td>4.453114</td><td>4.170883</td><td>0.282231</td></tr><tr><td>2008</td><td>4.721562</td><td>4.658848</td><td>0.062714</td></tr><tr><td>2003</td><td>4.922077</td><td>4.640911</td><td>0.281166</td></tr></tbody></table></div>"
      ],
      "text/plain": [
       "shape: (5, 4)\n",
       "┌────────┬──────────┬──────────┬───────────┐\n",
       "│ yearID ┆ AL       ┆ NL       ┆ AL - NL   │\n",
       "│ ---    ┆ ---      ┆ ---      ┆ ---       │\n",
       "│ i64    ┆ f64      ┆ f64      ┆ f64       │\n",
       "╞════════╪══════════╪══════════╪═══════════╡\n",
       "│ 1967   ┆ 3.693277 ┆ 3.83757  ┆ -0.144293 │\n",
       "│ 1981   ┆ 4.086877 ┆ 3.894603 ┆ 0.192274  │\n",
       "│ 2011   ┆ 4.453114 ┆ 4.170883 ┆ 0.282231  │\n",
       "│ 2008   ┆ 4.721562 ┆ 4.658848 ┆ 0.062714  │\n",
       "│ 2003   ┆ 4.922077 ┆ 4.640911 ┆ 0.281166  │\n",
       "└────────┴──────────┴──────────┴───────────┘"
      ]
     },
     "execution_count": 24,
     "metadata": {},
     "output_type": "execute_result"
    }
   ],
   "source": [
    "long_for_plot = (dh.pivot(index='yearID', columns='lgID', values='ERA')\n",
    "                 .with_columns((pl.col('AL') - pl.col('NL')).alias('AL - NL'))\n",
    "                )\n",
    "\n",
    "long_for_plot.head()"
   ]
  },
  {
   "cell_type": "code",
   "execution_count": 25,
   "id": "50c4db06-7c95-4702-b085-3a61a10ceebb",
   "metadata": {},
   "outputs": [
    {
     "name": "stderr",
     "output_type": "stream",
     "text": [
      "/var/folders/_h/6vzqs0zn1zlbyn_wprs8tk8h0000gn/T/ipykernel_79031/291838078.py:1: DeprecationWarning: `DataFrame.melt` is deprecated; use `DataFrame.unpivot` instead, with `index` instead of `id_vars` and `on` instead of `value_vars`\n"
     ]
    },
    {
     "data": {
      "text/html": [
       "<div><style>\n",
       ".dataframe > thead > tr,\n",
       ".dataframe > tbody > tr {\n",
       "  text-align: right;\n",
       "  white-space: pre-wrap;\n",
       "}\n",
       "</style>\n",
       "<small>shape: (5, 3)</small><table border=\"1\" class=\"dataframe\"><thead><tr><th>yearID</th><th>League</th><th>ERA</th></tr><tr><td>i64</td><td>str</td><td>f64</td></tr></thead><tbody><tr><td>1967</td><td>&quot;AL&quot;</td><td>3.693277</td></tr><tr><td>1981</td><td>&quot;AL&quot;</td><td>4.086877</td></tr><tr><td>2011</td><td>&quot;AL&quot;</td><td>4.453114</td></tr><tr><td>2008</td><td>&quot;AL&quot;</td><td>4.721562</td></tr><tr><td>2003</td><td>&quot;AL&quot;</td><td>4.922077</td></tr></tbody></table></div>"
      ],
      "text/plain": [
       "shape: (5, 3)\n",
       "┌────────┬────────┬──────────┐\n",
       "│ yearID ┆ League ┆ ERA      │\n",
       "│ ---    ┆ ---    ┆ ---      │\n",
       "│ i64    ┆ str    ┆ f64      │\n",
       "╞════════╪════════╪══════════╡\n",
       "│ 1967   ┆ AL     ┆ 3.693277 │\n",
       "│ 1981   ┆ AL     ┆ 4.086877 │\n",
       "│ 2011   ┆ AL     ┆ 4.453114 │\n",
       "│ 2008   ┆ AL     ┆ 4.721562 │\n",
       "│ 2003   ┆ AL     ┆ 4.922077 │\n",
       "└────────┴────────┴──────────┘"
      ]
     },
     "execution_count": 25,
     "metadata": {},
     "output_type": "execute_result"
    }
   ],
   "source": [
    "long = long_for_plot.melt(\n",
    "    id_vars=\"yearID\",\n",
    "    value_vars=[\"AL\", \"NL\", \"AL - NL\"],\n",
    "    variable_name=\"League\",   \n",
    "    value_name=\"ERA\"        \n",
    ")\n",
    "\n",
    "long.head()"
   ]
  },
  {
   "cell_type": "code",
   "execution_count": 35,
   "id": "5b865472-d164-43ba-9ef6-ab8d56265d39",
   "metadata": {},
   "outputs": [
    {
     "ename": "ModuleNotFoundError",
     "evalue": "No module named 'pyarrow'",
     "output_type": "error",
     "traceback": [
      "\u001b[31m---------------------------------------------------------------------------\u001b[39m",
      "\u001b[31mModuleNotFoundError\u001b[39m                       Traceback (most recent call last)",
      "\u001b[32m/opt/anaconda3/envs/polars/lib/python3.13/site-packages/plotnine/ggplot.py\u001b[39m in \u001b[36m?\u001b[39m\u001b[34m(self)\u001b[39m\n\u001b[32m    144\u001b[39m \n\u001b[32m    145\u001b[39m         This method will always be called when a ggplot object \u001b[38;5;28;01mis\u001b[39;00m the\n\u001b[32m    146\u001b[39m         last \u001b[38;5;28;01min\u001b[39;00m the cell.\n\u001b[32m    147\u001b[39m         \"\"\"\n\u001b[32m--> \u001b[39m\u001b[32m148\u001b[39m         self._display()\n",
      "\u001b[32m/opt/anaconda3/envs/polars/lib/python3.13/site-packages/plotnine/ggplot.py\u001b[39m in \u001b[36m?\u001b[39m\u001b[34m(self)\u001b[39m\n\u001b[32m    185\u001b[39m             self = copy(self)\n\u001b[32m    186\u001b[39m             self.theme = self.theme.to_retina()\n\u001b[32m    187\u001b[39m \n\u001b[32m    188\u001b[39m         buf = BytesIO()\n\u001b[32m--> \u001b[39m\u001b[32m189\u001b[39m         self.save(buf, \u001b[33m\"png\"\u001b[39m \u001b[38;5;28;01mif\u001b[39;00m format == \u001b[33m\"retina\"\u001b[39m \u001b[38;5;28;01melse\u001b[39;00m format, verbose=\u001b[38;5;28;01mFalse\u001b[39;00m)\n\u001b[32m    190\u001b[39m         figure_size_px = self.theme._figure_size_px\n\u001b[32m    191\u001b[39m         display_func = get_display_function(format, figure_size_px)\n\u001b[32m    192\u001b[39m         display_func(buf.getvalue())\n",
      "\u001b[32m/opt/anaconda3/envs/polars/lib/python3.13/site-packages/plotnine/ggplot.py\u001b[39m in \u001b[36m?\u001b[39m\u001b[34m(self, filename, format, path, width, height, units, dpi, limitsize, verbose, **kwargs)\u001b[39m\n\u001b[32m    684\u001b[39m             If `\u001b[38;5;28;01mTrue\u001b[39;00m`, print the saving information.\n\u001b[32m    685\u001b[39m         kwargs :\n\u001b[32m    686\u001b[39m             Additional arguments to \u001b[38;5;28;01mpass\u001b[39;00m to matplotlib `savefig()`.\n\u001b[32m    687\u001b[39m         \"\"\"\n\u001b[32m--> \u001b[39m\u001b[32m688\u001b[39m         sv = self.save_helper(\n\u001b[32m    689\u001b[39m             filename=filename,\n\u001b[32m    690\u001b[39m             format=format,\n\u001b[32m    691\u001b[39m             path=path,\n",
      "\u001b[32m/opt/anaconda3/envs/polars/lib/python3.13/site-packages/plotnine/ggplot.py\u001b[39m in \u001b[36m?\u001b[39m\u001b[34m(self, filename, format, path, width, height, units, dpi, limitsize, verbose, **kwargs)\u001b[39m\n\u001b[32m    632\u001b[39m \n\u001b[32m    633\u001b[39m         \u001b[38;5;28;01mif\u001b[39;00m dpi \u001b[38;5;28;01mis\u001b[39;00m \u001b[38;5;28;01mnot\u001b[39;00m \u001b[38;5;28;01mNone\u001b[39;00m:\n\u001b[32m    634\u001b[39m             self.theme = self.theme + theme(dpi=dpi)\n\u001b[32m    635\u001b[39m \n\u001b[32m--> \u001b[39m\u001b[32m636\u001b[39m         figure = self.draw(show=\u001b[38;5;28;01mFalse\u001b[39;00m)\n\u001b[32m    637\u001b[39m         \u001b[38;5;28;01mreturn\u001b[39;00m mpl_save_view(figure, fig_kwargs)\n",
      "\u001b[32m/opt/anaconda3/envs/polars/lib/python3.13/site-packages/plotnine/ggplot.py\u001b[39m in \u001b[36m?\u001b[39m\u001b[34m(self, show)\u001b[39m\n\u001b[32m    304\u001b[39m             \u001b[38;5;28;01mif\u001b[39;00m \u001b[38;5;28;01mnot\u001b[39;00m hasattr(self, \u001b[33m\"figure\"\u001b[39m):\n\u001b[32m    305\u001b[39m                 self._create_figure()\n\u001b[32m    306\u001b[39m             figure = self.figure\n\u001b[32m    307\u001b[39m \n\u001b[32m--> \u001b[39m\u001b[32m308\u001b[39m             self._build()\n\u001b[32m    309\u001b[39m \n\u001b[32m    310\u001b[39m             \u001b[38;5;66;03m# setup\u001b[39;00m\n\u001b[32m    311\u001b[39m             self.axs = self.facet.setup(self)\n",
      "\u001b[32m/opt/anaconda3/envs/polars/lib/python3.13/site-packages/plotnine/ggplot.py\u001b[39m in \u001b[36m?\u001b[39m\u001b[34m(self)\u001b[39m\n\u001b[32m    359\u001b[39m         layers.update_labels(self)\n\u001b[32m    360\u001b[39m \n\u001b[32m    361\u001b[39m         \u001b[38;5;66;03m# Give each layer a copy of the data, the mappings and\u001b[39;00m\n\u001b[32m    362\u001b[39m         \u001b[38;5;66;03m# the execution environment\u001b[39;00m\n\u001b[32m--> \u001b[39m\u001b[32m363\u001b[39m         layers.setup(self)\n\u001b[32m    364\u001b[39m \n\u001b[32m    365\u001b[39m         \u001b[38;5;66;03m# Initialise panels, add extra data for margins & missing\u001b[39;00m\n\u001b[32m    366\u001b[39m         \u001b[38;5;66;03m# facetting variables, and add on a PANEL variable to data\u001b[39;00m\n",
      "\u001b[32m/opt/anaconda3/envs/polars/lib/python3.13/site-packages/plotnine/layer.py\u001b[39m in \u001b[36m?\u001b[39m\u001b[34m(self, plot)\u001b[39m\n\u001b[32m    460\u001b[39m     \u001b[38;5;28;01mdef\u001b[39;00m setup(self, plot: ggplot):\n\u001b[32m    461\u001b[39m         \u001b[38;5;66;03m# If zorder is 0, it is left to MPL\u001b[39;00m\n\u001b[32m    462\u001b[39m         \u001b[38;5;28;01mfor\u001b[39;00m i, l \u001b[38;5;28;01min\u001b[39;00m enumerate(self, start=\u001b[32m1\u001b[39m):\n\u001b[32m    463\u001b[39m             l.zorder = i\n\u001b[32m--> \u001b[39m\u001b[32m464\u001b[39m             l.setup(plot)\n",
      "\u001b[32m/opt/anaconda3/envs/polars/lib/python3.13/site-packages/plotnine/layer.py\u001b[39m in \u001b[36m?\u001b[39m\u001b[34m(self, plot)\u001b[39m\n\u001b[32m    159\u001b[39m         Prepare layer \u001b[38;5;28;01mfor\u001b[39;00m the plot building\n\u001b[32m    160\u001b[39m \n\u001b[32m    161\u001b[39m         Give the layer access to the data, mapping \u001b[38;5;28;01mand\u001b[39;00m environment\n\u001b[32m    162\u001b[39m         \"\"\"\n\u001b[32m--> \u001b[39m\u001b[32m163\u001b[39m         self._make_layer_data(plot.data)\n\u001b[32m    164\u001b[39m         self._make_layer_mapping(plot.mapping)\n\u001b[32m    165\u001b[39m         self._make_layer_environments(plot.environment)\n\u001b[32m    166\u001b[39m         self._share_layer_params()\n",
      "\u001b[32m/opt/anaconda3/envs/polars/lib/python3.13/site-packages/plotnine/layer.py\u001b[39m in \u001b[36m?\u001b[39m\u001b[34m(self, plot_data)\u001b[39m\n\u001b[32m    176\u001b[39m         \"\"\"\n\u001b[32m    177\u001b[39m         \u001b[38;5;28;01mif\u001b[39;00m plot_data \u001b[38;5;28;01mis\u001b[39;00m \u001b[38;5;28;01mNone\u001b[39;00m:\n\u001b[32m    178\u001b[39m             data = pd.DataFrame()\n\u001b[32m    179\u001b[39m         \u001b[38;5;28;01melif\u001b[39;00m hasattr(plot_data, \u001b[33m\"to_pandas\"\u001b[39m):\n\u001b[32m--> \u001b[39m\u001b[32m180\u001b[39m             data = cast(\u001b[33m\"DataFrameConvertible\"\u001b[39m, plot_data).to_pandas()\n\u001b[32m    181\u001b[39m         \u001b[38;5;28;01melse\u001b[39;00m:\n\u001b[32m    182\u001b[39m             data = cast(\u001b[33m\"pd.DataFrame\"\u001b[39m, plot_data)\n\u001b[32m    183\u001b[39m \n",
      "\u001b[32m/opt/anaconda3/envs/polars/lib/python3.13/site-packages/polars/dataframe/frame.py\u001b[39m in \u001b[36m?\u001b[39m\u001b[34m(self, use_pyarrow_extension_array, **kwargs)\u001b[39m\n\u001b[32m   2557\u001b[39m             return self._to_pandas_with_object_columns(\n\u001b[32m   2558\u001b[39m                 use_pyarrow_extension_array=use_pyarrow_extension_array, **kwargs\n\u001b[32m   2559\u001b[39m             )\n\u001b[32m   2560\u001b[39m \n\u001b[32m-> \u001b[39m\u001b[32m2561\u001b[39m         return self._to_pandas_without_object_columns(\n\u001b[32m   2562\u001b[39m             self, use_pyarrow_extension_array=use_pyarrow_extension_array, **kwargs\n\u001b[32m   2563\u001b[39m         )\n",
      "\u001b[32m/opt/anaconda3/envs/polars/lib/python3.13/site-packages/polars/dataframe/frame.py\u001b[39m in \u001b[36m?\u001b[39m\u001b[34m(self, df, use_pyarrow_extension_array, **kwargs)\u001b[39m\n\u001b[32m   2608\u001b[39m     ) -> pd.DataFrame:\n\u001b[32m   2609\u001b[39m         \u001b[38;5;28;01mif\u001b[39;00m \u001b[38;5;28;01mnot\u001b[39;00m df.width:  \u001b[38;5;66;03m# Empty dataframe, cannot infer schema from batches\u001b[39;00m\n\u001b[32m   2610\u001b[39m             \u001b[38;5;28;01mreturn\u001b[39;00m pd.DataFrame()\n\u001b[32m   2611\u001b[39m \n\u001b[32m-> \u001b[39m\u001b[32m2612\u001b[39m         record_batches = df._df.to_pandas()\n\u001b[32m   2613\u001b[39m         tbl = pa.Table.from_batches(record_batches)\n\u001b[32m   2614\u001b[39m         \u001b[38;5;28;01mif\u001b[39;00m use_pyarrow_extension_array:\n\u001b[32m   2615\u001b[39m             return tbl.to_pandas(\n",
      "\u001b[31mModuleNotFoundError\u001b[39m: No module named 'pyarrow'"
     ]
    },
    {
     "data": {
      "text/plain": [
       "<plotnine.ggplot.ggplot at 0x13fcc21a0>"
      ]
     },
     "execution_count": 35,
     "metadata": {},
     "output_type": "execute_result"
    }
   ],
   "source": [
    "from plotnine import (\n",
    "    ggplot, aes, geom_line, geom_hline, geom_vline, geom_text,\n",
    "    theme, theme_classic, labs, scale_x_continuous\n",
    ")\n",
    "\n",
    "min_y, max_y = int(long[\"yearID\"].min()), int(long[\"yearID\"].max())\n",
    "ten_year_ticks = range((min_y // 10) * 10, max_y + 1, 10)\n",
    "\n",
    "graph = (\n",
    "    ggplot(data=long)\n",
    "    + geom_line(aes(x=\"yearID\", y=\"ERA\", color=\"League\"))\n",
    "    + theme_classic()\n",
    "    + theme(figure_size=(10, 4))\n",
    "    + scale_x_continuous(breaks=ten_year_ticks, limits=(1950, 2025))\n",
    "    + geom_vline(xintercept=1973, linetype=\"dashed\", color=\"red\")\n",
    "    + geom_hline(yintercept=0, linetype=\"dotted\")\n",
    "    + geom_text(\n",
    "        aes(x=[1952], y=[long[\"ERA\"].min() + 1.25]),\n",
    "        label=\"DH introduced to the AL in 1973\",\n",
    "        ha=\"left\",\n",
    "        va=\"bottom\",\n",
    "        size=8\n",
    "    )\n",
    "    + labs(title=\"League ERA vs. yearID\", x=\"yearID\", y=\"League ERA\")\n",
    ")\n",
    "(graph)\n",
    "\n"
   ]
  },
  {
   "cell_type": "code",
   "execution_count": null,
   "id": "d109d520-27ea-4773-8946-9c447a62d39d",
   "metadata": {},
   "outputs": [],
   "source": []
  }
 ],
 "metadata": {
  "kernelspec": {
   "display_name": "Python 3 (ipykernel)",
   "language": "python",
   "name": "python3"
  },
  "language_info": {
   "codemirror_mode": {
    "name": "ipython",
    "version": 3
   },
   "file_extension": ".py",
   "mimetype": "text/x-python",
   "name": "python",
   "nbconvert_exporter": "python",
   "pygments_lexer": "ipython3",
   "version": "3.13.5"
  }
 },
 "nbformat": 4,
 "nbformat_minor": 5
}
